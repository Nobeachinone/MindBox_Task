{
 "cells": [
  {
   "cell_type": "markdown",
   "id": "3b732a69",
   "metadata": {},
   "source": [
    "# Группировка клиентов"
   ]
  },
  {
   "cell_type": "code",
   "execution_count": 52,
   "id": "322e05e3",
   "metadata": {},
   "outputs": [],
   "source": [
    "def customers_group(customer_id:str):\n",
    "    group = sum(list(map(int, list(customer_id)))) \n",
    "    return group"
   ]
  },
  {
   "cell_type": "markdown",
   "id": "27b21df6",
   "metadata": {},
   "source": [
    "list(customer_id) разобьёт строку как split; map(int, list(customer_id)) - подействует на каждый элемент list(customer_id) функцией int(); так как map() возвращает объект iterable, то преобразуем его в list для которого существует метод sum()"
   ]
  },
  {
   "cell_type": "markdown",
   "id": "a5357edf",
   "metadata": {},
   "source": [
    "# Диагностические функции"
   ]
  },
  {
   "cell_type": "code",
   "execution_count": 60,
   "id": "d8e3f24b",
   "metadata": {},
   "outputs": [],
   "source": [
    "def template_for_functions(init, end):            #специальный шаблон для диагностических функций\n",
    "    group_result = {}                             #заводим словарь, где будем хранить сколько человек принадлежат каждой группе\n",
    "    for num in range(init, end):                  #проходимся по всем клиентам с начального (init) id до конечного (end) id \n",
    "        group_number = customers_group(str(num))  #находим номер группы с помощью функции группировки клиентов\n",
    "        if group_number not in group_result:      #проверяем наличие ключа в словаре\n",
    "            group_result[group_number] = 1        #если его нет, добавляем его со значением 1\n",
    "        else:\n",
    "            group_result[group_number] += 1       #если он есть, то добавляем к значению 1\n",
    "    return group_result"
   ]
  },
  {
   "cell_type": "code",
   "execution_count": 61,
   "id": "1fa2e04a",
   "metadata": {},
   "outputs": [],
   "source": [
    "#используя шаблонную функцию, находим распределение клиентов с id = 0.....\n",
    "def func_id_with_zero(n_customers:int):\n",
    "    return template_for_functions(0, n_customers) "
   ]
  },
  {
   "cell_type": "code",
   "execution_count": 62,
   "id": "227120e9",
   "metadata": {
    "scrolled": true
   },
   "outputs": [
    {
     "data": {
      "text/plain": [
       "{0: 1,\n",
       " 1: 7,\n",
       " 2: 28,\n",
       " 3: 83,\n",
       " 4: 203,\n",
       " 5: 434,\n",
       " 6: 839,\n",
       " 7: 1500,\n",
       " 8: 2520,\n",
       " 9: 4025,\n",
       " 10: 6160,\n",
       " 11: 9079,\n",
       " 12: 12930,\n",
       " 13: 17839,\n",
       " 14: 23895,\n",
       " 15: 31136,\n",
       " 16: 39539,\n",
       " 17: 49010,\n",
       " 18: 59373,\n",
       " 19: 70361,\n",
       " 20: 81621,\n",
       " 21: 92734,\n",
       " 22: 103246,\n",
       " 23: 112701,\n",
       " 24: 120671,\n",
       " 25: 126781,\n",
       " 26: 130731,\n",
       " 27: 132316,\n",
       " 28: 131447,\n",
       " 29: 128169,\n",
       " 30: 122661,\n",
       " 31: 115216,\n",
       " 32: 106207,\n",
       " 33: 96057,\n",
       " 34: 85207,\n",
       " 35: 74092,\n",
       " 36: 63120,\n",
       " 37: 52651,\n",
       " 38: 42977,\n",
       " 39: 34307,\n",
       " 40: 26756,\n",
       " 41: 20360,\n",
       " 42: 15090,\n",
       " 43: 10871,\n",
       " 44: 7595,\n",
       " 45: 5134,\n",
       " 46: 3349,\n",
       " 47: 2101,\n",
       " 48: 1260,\n",
       " 49: 715,\n",
       " 50: 378,\n",
       " 51: 182,\n",
       " 52: 77,\n",
       " 53: 27,\n",
       " 54: 7,\n",
       " 55: 1}"
      ]
     },
     "execution_count": 62,
     "metadata": {},
     "output_type": "execute_result"
    }
   ],
   "source": [
    "func_id_with_zero(2375777)"
   ]
  },
  {
   "cell_type": "code",
   "execution_count": 65,
   "id": "eaf6e8f0",
   "metadata": {},
   "outputs": [],
   "source": [
    "#используя шаблонную функцию, находим распределение клиентов с любым id\n",
    "def func_id_with_any(n_customers:int, n_first_id:int):\n",
    "    return template_for_functions(n_first_id, n_first_id + n_customers)"
   ]
  },
  {
   "cell_type": "code",
   "execution_count": 66,
   "id": "7f738128",
   "metadata": {
    "scrolled": true
   },
   "outputs": [
    {
     "data": {
      "text/plain": [
       "{38: 1073,\n",
       " 39: 864,\n",
       " 40: 674,\n",
       " 32: 2404,\n",
       " 33: 2209,\n",
       " 34: 1990,\n",
       " 35: 1760,\n",
       " 36: 1526,\n",
       " 37: 1295,\n",
       " 41: 508,\n",
       " 42: 370,\n",
       " 25: 2613,\n",
       " 26: 2720,\n",
       " 27: 2781,\n",
       " 28: 2795,\n",
       " 29: 2763,\n",
       " 30: 2686,\n",
       " 31: 2565,\n",
       " 43: 260,\n",
       " 44: 175,\n",
       " 18: 1103,\n",
       " 19: 1335,\n",
       " 20: 1575,\n",
       " 21: 1816,\n",
       " 22: 2051,\n",
       " 23: 2270,\n",
       " 24: 2461,\n",
       " 45: 111,\n",
       " 46: 65,\n",
       " 47: 34,\n",
       " 48: 15,\n",
       " 13: 261,\n",
       " 14: 373,\n",
       " 15: 515,\n",
       " 16: 687,\n",
       " 17: 885,\n",
       " 49: 5,\n",
       " 50: 1,\n",
       " 6: 1,\n",
       " 7: 5,\n",
       " 8: 15,\n",
       " 9: 34,\n",
       " 10: 65,\n",
       " 11: 111,\n",
       " 12: 175}"
      ]
     },
     "execution_count": 66,
     "metadata": {},
     "output_type": "execute_result"
    }
   ],
   "source": [
    "func_id_with_any(50000, 2375777)"
   ]
  }
 ],
 "metadata": {
  "kernelspec": {
   "display_name": "Python 3 (ipykernel)",
   "language": "python",
   "name": "python3"
  },
  "language_info": {
   "codemirror_mode": {
    "name": "ipython",
    "version": 3
   },
   "file_extension": ".py",
   "mimetype": "text/x-python",
   "name": "python",
   "nbconvert_exporter": "python",
   "pygments_lexer": "ipython3",
   "version": "3.9.12"
  }
 },
 "nbformat": 4,
 "nbformat_minor": 5
}
